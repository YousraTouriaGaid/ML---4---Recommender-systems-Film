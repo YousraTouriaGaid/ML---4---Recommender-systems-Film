{
 "cells": [
  {
   "cell_type": "markdown",
   "metadata": {
    "datalore": {
     "hide_input_from_viewers": true,
     "hide_output_from_viewers": true,
     "node_id": "aGkMzSwyOVAv0S0L4AqVvf",
     "type": "MD"
    }
   },
   "source": [
    "# Numpy Cheat Sheet"
   ]
  },
  {
   "cell_type": "markdown",
   "metadata": {
    "datalore": {
     "hide_input_from_viewers": false,
     "hide_output_from_viewers": false,
     "node_id": "6Kng6J64pwulPynUzuU48F",
     "report_properties": {},
     "type": "MD"
    }
   },
   "source": [
    "Before reading this notebook, make sure you read the absolute minimum introduction to the library: https://numpy.org/doc/stable/user/absolute_beginners.html"
   ]
  },
  {
   "cell_type": "code",
   "execution_count": 1,
   "metadata": {
    "datalore": {
     "hide_input_from_viewers": false,
     "hide_output_from_viewers": false,
     "node_id": "SHlLjqoYPZJhVJk3iS5OHx",
     "report_properties": {},
     "type": "CODE"
    },
    "tags": []
   },
   "outputs": [],
   "source": [
    "# That's how you import NumPy. Impressive, right ?\n",
    "import numpy as np"
   ]
  },
  {
   "cell_type": "markdown",
   "metadata": {
    "datalore": {
     "hide_input_from_viewers": false,
     "hide_output_from_viewers": false,
     "node_id": "sLVIUWimyBwTXh95r49r8r",
     "report_properties": {},
     "type": "MD"
    }
   },
   "source": [
    "### Array Creation\n",
    "There are several ways to create an array with NumPy:"
   ]
  },
  {
   "cell_type": "code",
   "execution_count": 2,
   "metadata": {},
   "outputs": [
    {
     "name": "stdout",
     "output_type": "stream",
     "text": [
      "A =  [1 2 3 4 5]\n",
      "B =  [0 1 2 3 4]\n",
      "C =  [0. 0. 0. 0. 0.]\n",
      "D =  [1 1 1 1 1]\n"
     ]
    }
   ],
   "source": [
    "# Create an array from a list of values\n",
    "A = np.array([1,2,3,4,5])\n",
    "print('A = ', A)\n",
    "\n",
    "# Create an array using np.arange\n",
    "B = np.arange(5)\n",
    "print('B = ', B)\n",
    "\n",
    "# Create an array using np.zeros (or np.ones)\n",
    "C = np.zeros(5)\n",
    "print('C = ', C)\n",
    "\n",
    "# Create an array of ones the same shape as A using np.ones_like (or np.zeros_like)\n",
    "D = np.ones_like(A)\n",
    "print('D = ', D)"
   ]
  },
  {
   "cell_type": "markdown",
   "metadata": {},
   "source": [
    "### Array casting\n",
    "Arrays can be casted to a different type! Here's how:"
   ]
  },
  {
   "cell_type": "code",
   "execution_count": 3,
   "metadata": {},
   "outputs": [
    {
     "name": "stdout",
     "output_type": "stream",
     "text": [
      "E =  [1. 1. 1. 1. 1.]\n",
      "F =  [False  True  True  True  True]\n"
     ]
    }
   ],
   "source": [
    "# Use the dtype argument of np.array\n",
    "E = np.array(D, dtype=float)\n",
    "print('E = ', E)\n",
    "\n",
    "# Use .astype method (anything different than 0 is converted to True)\n",
    "F = B.astype(bool)\n",
    "print('F = ', F)"
   ]
  },
  {
   "cell_type": "markdown",
   "metadata": {},
   "source": [
    "### Elementwise operations\n",
    "Basic mathematical operations such as + - * / % ** are applied to each element of an array i.e. elementwise. Numpy uses **[Broadcasting](https://numpy.org/doc/stable/user/absolute_beginners.html#broadcasting)** to make these mathematical operations work, something you should already be familiar with having used Pandas DataFrames.  "
   ]
  },
  {
   "cell_type": "code",
   "execution_count": 4,
   "metadata": {},
   "outputs": [
    {
     "name": "stdout",
     "output_type": "stream",
     "text": [
      "A =  [1 2 3 4 5]\n",
      "B = A + 2 =  [3 4 5 6 7]\n",
      "C = A**2 =  [ 1  4  9 16 25]\n",
      "D = A + B =  [ 4  6  8 10 12]\n",
      "E = A * B =  [ 3  8 15 24 35]\n",
      "F = np.exp(A) =  [  2.71828183   7.3890561   20.08553692  54.59815003 148.4131591 ]\n",
      "G = np.cos(A) =  [ 0.54030231 -0.41614684 -0.9899925  -0.65364362  0.28366219]\n",
      "H = np.sqrt(A) =  [1.         1.41421356 1.73205081 2.         2.23606798]\n"
     ]
    }
   ],
   "source": [
    "# Create an array\n",
    "A = np.array([1,2,3,4,5])\n",
    "print('A = ', A)\n",
    "\n",
    "# Add 2 to each element of the array\n",
    "B = A + 2\n",
    "print('B = A + 2 = ', B)\n",
    "\n",
    "# Square each element of the array\n",
    "C = A ** 2\n",
    "print('C = A**2 = ', C)\n",
    "\n",
    "# Elementwise sum: THIS CANNOT WORK IF A AND B DO NOT HAVE THE SAME SIZE!!\n",
    "D = A + B\n",
    "print('D = A + B = ', D)\n",
    "\n",
    "# Elementwise multiplication: THIS CANNOT WORK IF A AND B DO NOT HAVE THE SAME SIZE!!\n",
    "E = A * B\n",
    "print('E = A * B = ', E)\n",
    "\n",
    "# Elementwise exponential\n",
    "F = np.exp(A)\n",
    "print('F = np.exp(A) = ', F)\n",
    "\n",
    "# Elementwise cosine\n",
    "G = np.cos(A)\n",
    "print('G = np.cos(A) = ', G)\n",
    "\n",
    "# Elementwise square root\n",
    "H = np.sqrt(A)\n",
    "print('H = np.sqrt(A) = ', H)"
   ]
  },
  {
   "cell_type": "markdown",
   "metadata": {},
   "source": [
    "### Reduction operations\n",
    "Some operations perform a **reduction**: they reduce the size or the dimension of the array! For example, summing all the values of an array *reduces* the array to a single number."
   ]
  },
  {
   "cell_type": "code",
   "execution_count": 5,
   "metadata": {},
   "outputs": [
    {
     "name": "stdout",
     "output_type": "stream",
     "text": [
      "A =  [ 1  2  3  4  5  6  7  8  9 10]\n",
      "B = np.sum(A) =  55\n",
      "C = np.prod(A) =  3628800\n",
      "D = A.A =  385\n",
      "np.sum(A*A) =  385\n",
      "E = np.min(A) =  1\n",
      "F = np.max(A) =  10\n",
      "G = np.argmin(A) =  0\n",
      "H = np.argmax(A) =  9\n"
     ]
    }
   ],
   "source": [
    "# Create an array\n",
    "A = np.arange(1,11)\n",
    "print('A = ', A)\n",
    "\n",
    "# Let's count the sum of all the numbers up to 10\n",
    "B = np.sum(A)\n",
    "print('B = np.sum(A) = ', B)\n",
    "\n",
    "# And the product (be careful, the product can easily overflow...)\n",
    "C = np.prod(A)\n",
    "print('C = np.prod(A) = ', C)\n",
    "\n",
    "# Dot product: take the sum of the elementwise product of two arrays (also written A.B)\n",
    "D = np.dot(A,A)\n",
    "print('D = A.A = ', D)\n",
    "print('np.sum(A*A) = ', np.sum(A*A))\n",
    "\n",
    "# Take the minimum value of A\n",
    "E = np.min(A)\n",
    "print('E = np.min(A) = ', E)\n",
    "\n",
    "# Take the maximum value of A\n",
    "F = np.max(A)\n",
    "print('F = np.max(A) = ', F)\n",
    "\n",
    "# Take the index of the minimum value of A\n",
    "G = np.argmin(A)\n",
    "print('G = np.argmin(A) = ', G)\n",
    "\n",
    "# Take the index of the maximum value of A\n",
    "H = np.argmax(A)\n",
    "print('H = np.argmax(A) = ', H)"
   ]
  },
  {
   "cell_type": "markdown",
   "metadata": {},
   "source": [
    "### Array indexing"
   ]
  },
  {
   "cell_type": "code",
   "execution_count": 6,
   "metadata": {
    "datalore": {
     "hide_input_from_viewers": false,
     "hide_output_from_viewers": false,
     "node_id": "22xsEQb0SzhmUWxY0lFLlg",
     "report_properties": {},
     "type": "CODE"
    },
    "tags": []
   },
   "outputs": [
    {
     "name": "stdout",
     "output_type": "stream",
     "text": [
      "[1 2 3 4]\n",
      "A.shape = (4,)\n",
      "A.ndim = 1\n",
      "A.dtype = int32\n",
      "\n",
      "[[0.  0.1 0.2 0.3 0.4]\n",
      " [1.  1.1 1.2 1.3 1.4]\n",
      " [2.  2.1 2.2 2.3 2.4]]\n",
      "B.shape = (3, 5)\n",
      "B.ndim = 2\n",
      "B.dtype = float64\n",
      "\n",
      "['1' '2' '3' '4']\n",
      "C.shape = (4,)\n",
      "C.ndim = 1\n",
      "C.dtype = <U11\n",
      "\n",
      "A[0] = 1\n",
      "B[0] = [0.  0.1 0.2 0.3 0.4]\n",
      "B[0,1] = 0.1\n",
      "\n",
      "B[0,:] = [0.  0.1 0.2 0.3 0.4]\n",
      "B[:,0] = [0. 1. 2.]\n",
      "B[0, 1:3] = [0.1 0.2]\n",
      "B[0, 1:] = [0.1 0.2 0.3 0.4]\n",
      "\n",
      "B[0,0] = 8 : \n",
      "[[8.  0.1 0.2 0.3 0.4]\n",
      " [1.  1.1 1.2 1.3 1.4]\n",
      " [2.  2.1 2.2 2.3 2.4]]\n",
      "B[1,1:] = A : \n",
      "[[8.  0.1 0.2 0.3 0.4]\n",
      " [1.  1.  2.  3.  4. ]\n",
      " [2.  2.1 2.2 2.3 2.4]]\n"
     ]
    }
   ],
   "source": [
    "A = np.array([1,2,3,4])\n",
    "B = np.array([\n",
    "            [0.0,0.1,0.2,0.3,0.4],\n",
    "            [1.0,1.1,1.2,1.3,1.4],\n",
    "            [2.0,2.1,2.2,2.3,2.4],\n",
    "            ])\n",
    "C = np.array([1,2,'3',4])\n",
    "\n",
    "# Shape and type\n",
    "print(A)\n",
    "print(f\"A.shape = {A.shape}\")\n",
    "print(f\"A.ndim = {A.ndim}\")\n",
    "print(f\"A.dtype = {A.dtype}\")\n",
    "print()\n",
    "print(B)\n",
    "print(f\"B.shape = {B.shape}\")\n",
    "print(f\"B.ndim = {B.ndim}\")\n",
    "print(f\"B.dtype = {B.dtype}\")\n",
    "print()\n",
    "print(C)\n",
    "print(f\"C.shape = {C.shape}\")\n",
    "print(f\"C.ndim = {C.ndim}\")\n",
    "print(f\"C.dtype = {C.dtype}\")\n",
    "print()\n",
    "\n",
    "# Indexing\n",
    "# Note that indexing begins at 0\n",
    "print(f\"A[0] = {A[0]}\")\n",
    "print(f\"B[0] = {B[0]}\")\n",
    "print(f\"B[0,1] = {B[0,1]}\")\n",
    "print()\n",
    "\n",
    "# Slice extraction\n",
    "print(f\"B[0,:] = {B[0,:]}\")\n",
    "print(f\"B[:,0] = {B[:,0]}\")\n",
    "print(f\"B[0, 1:3] = {B[0, 1:3]}\") # notice index 3 is excluded\n",
    "print(f\"B[0, 1:] = {B[0, 1:]}\") # retreives all but one elements of the first nested array (from index=1 until the end)\n",
    "print()\n",
    "\n",
    "# Assignation\n",
    "B[0,0] = 8\n",
    "print(f\"B[0,0] = 8 : \\n{B}\")\n",
    "B[1,1:] = A\n",
    "print(f\"B[1,1:] = A : \\n{B}\")"
   ]
  },
  {
   "cell_type": "markdown",
   "metadata": {
    "datalore": {
     "hide_input_from_viewers": false,
     "hide_output_from_viewers": false,
     "node_id": "D0E45FBneneAnyUI6qoDNo",
     "report_properties": {},
     "type": "MD"
    }
   },
   "source": [
    "### Array  masking"
   ]
  },
  {
   "cell_type": "code",
   "execution_count": 7,
   "metadata": {
    "datalore": {
     "hide_input_from_viewers": false,
     "hide_output_from_viewers": false,
     "node_id": "qdcTpa6ccqklA58pqh0QYi",
     "report_properties": {},
     "type": "CODE"
    },
    "tags": []
   },
   "outputs": [
    {
     "name": "stdout",
     "output_type": "stream",
     "text": [
      "[1 2 3 4]\n",
      "[ True False False  True]\n",
      "A[mask] =  [1 4]\n",
      "A[mask] = 10 : A =  [10  2  3 10]\n",
      "\n",
      "A[A>5] = 0 : A =  [0 2 3 0]\n",
      "\n",
      "A = [-1.  -0.5  0.   0.5  1. ]\n",
      "B = [ 2.  1. -0. -1. -2.]\n",
      "A[A<0] = B[A<0]: A = [2.  1.  0.  0.5 1. ]\n"
     ]
    }
   ],
   "source": [
    "A = np.array([1,2,3,4])\n",
    "mask = np.array([True, False, False, True])\n",
    "print(A)\n",
    "print(mask)\n",
    "print(\"A[mask] = \",A[mask])\n",
    "\n",
    "# Now use this to modify part of the array\n",
    "A[mask] = 10\n",
    "print(\"A[mask] = 10 : A = \",A)\n",
    "print()\n",
    "\n",
    "# A mask is generally a boolean test on another array\n",
    "\n",
    "# set to 0 all values above 5 in A\n",
    "A[A>5] = 0\n",
    "print(\"A[A>5] = 0 : A = \",A)\n",
    "print()\n",
    "\n",
    "# Replace negative values in A by the value of B at that position\n",
    "A = np.linspace(-1,1,5)\n",
    "B = -2*A\n",
    "print(f\"A = {A}\")\n",
    "print(f\"B = {B}\")\n",
    "A[A<0] = B[A<0]\n",
    "print(f\"A[A<0] = B[A<0]: A = {A}\")"
   ]
  }
 ],
 "metadata": {
  "datalore": {
   "base_environment": "default",
   "computation_mode": "JUPYTER",
   "package_manager": "pip",
   "packages": [],
   "version": 1
  },
  "kernelspec": {
   "display_name": "base",
   "language": "python",
   "name": "python3"
  },
  "language_info": {
   "codemirror_mode": {
    "name": "ipython",
    "version": 3
   },
   "file_extension": ".py",
   "mimetype": "text/x-python",
   "name": "python",
   "nbconvert_exporter": "python",
   "pygments_lexer": "ipython3",
   "version": "3.12.3"
  }
 },
 "nbformat": 4,
 "nbformat_minor": 4
}
